{
 "cells": [
  {
   "cell_type": "markdown",
   "metadata": {},
   "source": [
    "# Explore central tendency methods"
   ]
  },
  {
   "cell_type": "markdown",
   "metadata": {},
   "source": [
    "## Imports"
   ]
  },
  {
   "cell_type": "code",
   "execution_count": 58,
   "metadata": {},
   "outputs": [
    {
     "name": "stdout",
     "output_type": "stream",
     "text": [
      "Requirement already satisfied: openpyxl in /usr/local/python/3.10.13/lib/python3.10/site-packages (3.1.2)\n",
      "Requirement already satisfied: et-xmlfile in /usr/local/python/3.10.13/lib/python3.10/site-packages (from openpyxl) (1.1.0)\n",
      "Note: you may need to restart the kernel to use updated packages.\n"
     ]
    }
   ],
   "source": [
    "import requests\n",
    "from bs4 import BeautifulSoup\n",
    "from urllib.parse import urlparse, unquote\n",
    "%pip install openpyxl\n",
    "from openpyxl import load_workbook\n",
    "import pandas as pd\n",
    "import numpy as np\n",
    "from scipy.stats import trim_mean\n",
    "\n"
   ]
  },
  {
   "cell_type": "markdown",
   "metadata": {},
   "source": [
    "## Get data"
   ]
  },
  {
   "cell_type": "code",
   "execution_count": 36,
   "metadata": {},
   "outputs": [
    {
     "name": "stdout",
     "output_type": "stream",
     "text": [
      "File pfatablessep23final.xlsx downloaded successfully!\n"
     ]
    }
   ],
   "source": [
    "# Fetch webpage content\n",
    "url = 'https://www.ons.gov.uk/peoplepopulationandcommunity/crimeandjustice/datasets/policeforceareadatatables'\n",
    "response = requests.get(url)\n",
    "content = response.content\n",
    "\n",
    "# Parse the content\n",
    "soup = BeautifulSoup(content, 'html.parser')\n",
    "\n",
    "# Find all Excel file links\n",
    "excel_links = []\n",
    "for link in soup.find_all('a'):\n",
    "    href = link.get('href')\n",
    "    if href and ('.xlsx' in href or '.xls' in href):\n",
    "        full_link = f'https://www.ons.gov.uk{href}'\n",
    "        excel_links.append(full_link)\n",
    "\n",
    "# Download most recent Excel file \n",
    "if excel_links:\n",
    "    excel_url = excel_links[0]  # Change the index for different files\n",
    "    response = requests.get(excel_url)\n",
    "\n",
    "   # Extract the filename from the URL\n",
    "    parsed_url = urlparse(excel_url)\n",
    "    filename_path = unquote(parsed_url.query)  # Decode URL-encoded characters\n",
    "    filename = filename_path.split('/')[-1]  # Get the last part after the last '/'\n",
    "\n",
    "    with open(filename, 'wb') as f:\n",
    "        f.write(response.content)\n",
    "    print(f\"File {filename} downloaded successfully!\")\n",
    "else:\n",
    "    print(\"No Excel files found.\")\n"
   ]
  },
  {
   "cell_type": "markdown",
   "metadata": {},
   "source": [
    "## Prepare data"
   ]
  },
  {
   "cell_type": "code",
   "execution_count": 44,
   "metadata": {},
   "outputs": [],
   "source": [
    "path = \"/workspaces/practical_stats/pfatablessep23final.xlsx\"\n",
    "sheet_name = 'Table P1'\n",
    "sheet_name_pops = 'Table P3'\n",
    "\n",
    "# Read specific sheets and drop initial rows \n",
    "df = pd.read_excel(path, sheet_name=sheet_name, header=6)  # Assuming the first row is the header\n",
    "df_pops = pd.read_excel(path, sheet_name=sheet_name_pops, header=7)\n",
    "\n",
    "# Merge population column into crime table\n",
    "df = pd.merge(df, df_pops[['Area Code', 'Population figures\\n (mid-2022) rounded to 100 [note 4]']], on='Area Code', how='left')\n",
    "\n"
   ]
  },
  {
   "cell_type": "code",
   "execution_count": 60,
   "metadata": {},
   "outputs": [],
   "source": [
    "# Murders and murder rate per 100,000\n",
    "df_murder = df[['Area Code', \n",
    "                'Area Name', \n",
    "                'Homicide', \n",
    "                'Population figures\\n (mid-2022) rounded to 100 [note 4]']].copy()\n",
    "\n",
    "df_murder['Murder Rate'] = (df_murder['Homicide']/df_murder['Population figures\\n (mid-2022) rounded to 100 [note 4]']) * 100000\n",
    "\n",
    "# Drop rows where 'Area Code' starts with 'W', 'E12', 'E9', or 'K'\n",
    "mask = (\n",
    "    df_murder['Area Code'].str.startswith('W') |\n",
    "    df_murder['Area Code'].str.startswith('E12') |\n",
    "    df_murder['Area Code'].str.startswith('E9') |\n",
    "    df_murder['Area Code'].str.startswith('K')\n",
    ")\n",
    "\n",
    "df_murder = df_murder[~mask]\n",
    "\n",
    "# Drop row where 'Area Name' is 'British Transport Police'\n",
    "df_murder = df_murder[df_murder['Area Name'] != 'British Transport Police']"
   ]
  },
  {
   "cell_type": "markdown",
   "metadata": {},
   "source": [
    "## Inspect data"
   ]
  },
  {
   "cell_type": "code",
   "execution_count": 61,
   "metadata": {},
   "outputs": [
    {
     "data": {
      "text/html": [
       "<div>\n",
       "<style scoped>\n",
       "    .dataframe tbody tr th:only-of-type {\n",
       "        vertical-align: middle;\n",
       "    }\n",
       "\n",
       "    .dataframe tbody tr th {\n",
       "        vertical-align: top;\n",
       "    }\n",
       "\n",
       "    .dataframe thead th {\n",
       "        text-align: right;\n",
       "    }\n",
       "</style>\n",
       "<table border=\"1\" class=\"dataframe\">\n",
       "  <thead>\n",
       "    <tr style=\"text-align: right;\">\n",
       "      <th></th>\n",
       "      <th>Area Code</th>\n",
       "      <th>Area Name</th>\n",
       "      <th>Homicide</th>\n",
       "      <th>Population figures\\n (mid-2022) rounded to 100 [note 4]</th>\n",
       "      <th>Murder Rate</th>\n",
       "    </tr>\n",
       "  </thead>\n",
       "  <tbody>\n",
       "    <tr>\n",
       "      <th>3</th>\n",
       "      <td>E23000013</td>\n",
       "      <td>Cleveland</td>\n",
       "      <td>13</td>\n",
       "      <td>579300.0</td>\n",
       "      <td>2.244088</td>\n",
       "    </tr>\n",
       "    <tr>\n",
       "      <th>4</th>\n",
       "      <td>E23000008</td>\n",
       "      <td>Durham</td>\n",
       "      <td>7</td>\n",
       "      <td>637600.0</td>\n",
       "      <td>1.097867</td>\n",
       "    </tr>\n",
       "    <tr>\n",
       "      <th>5</th>\n",
       "      <td>E23000007</td>\n",
       "      <td>Northumbria</td>\n",
       "      <td>18</td>\n",
       "      <td>1466200.0</td>\n",
       "      <td>1.227663</td>\n",
       "    </tr>\n",
       "    <tr>\n",
       "      <th>7</th>\n",
       "      <td>E23000006</td>\n",
       "      <td>Cheshire</td>\n",
       "      <td>5</td>\n",
       "      <td>1108800.0</td>\n",
       "      <td>0.450938</td>\n",
       "    </tr>\n",
       "    <tr>\n",
       "      <th>8</th>\n",
       "      <td>E23000002</td>\n",
       "      <td>Cumbria</td>\n",
       "      <td>2</td>\n",
       "      <td>503000.0</td>\n",
       "      <td>0.397614</td>\n",
       "    </tr>\n",
       "  </tbody>\n",
       "</table>\n",
       "</div>"
      ],
      "text/plain": [
       "   Area Code    Area Name  Homicide  \\\n",
       "3  E23000013    Cleveland        13   \n",
       "4  E23000008       Durham         7   \n",
       "5  E23000007  Northumbria        18   \n",
       "7  E23000006     Cheshire         5   \n",
       "8  E23000002      Cumbria         2   \n",
       "\n",
       "   Population figures\\n (mid-2022) rounded to 100 [note 4]  Murder Rate  \n",
       "3                                           579300.0           2.244088  \n",
       "4                                           637600.0           1.097867  \n",
       "5                                          1466200.0           1.227663  \n",
       "7                                          1108800.0           0.450938  \n",
       "8                                           503000.0           0.397614  "
      ]
     },
     "execution_count": 61,
     "metadata": {},
     "output_type": "execute_result"
    }
   ],
   "source": [
    "df_murder.head()"
   ]
  },
  {
   "cell_type": "markdown",
   "metadata": {},
   "source": [
    "## Central tendency"
   ]
  },
  {
   "cell_type": "code",
   "execution_count": 64,
   "metadata": {},
   "outputs": [
    {
     "name": "stdout",
     "output_type": "stream",
     "text": [
      "\n",
      "      Mean: 1464264.1025641025\n",
      "      Trimmed mean: 1251284.8484848484\n",
      "      Median: 1146200.0\n",
      "\n"
     ]
    }
   ],
   "source": [
    "# Mean\n",
    "pop_mean = df_murder['Population figures\\n (mid-2022) rounded to 100 [note 4]'].mean()\n",
    "\n",
    "# Trimmed mean (exclusing top and bottom 10%)\n",
    "pop_trimmed_mean = trim_mean(df_murder['Population figures\\n (mid-2022) rounded to 100 [note 4]'], 0.1)\n",
    "\n",
    "# Median\n",
    "pop_median = df_murder['Population figures\\n (mid-2022) rounded to 100 [note 4]'].median()\n",
    "\n",
    "print(f\"\"\"\n",
    "      Population mean: {pop_mean}\n",
    "      Trimmed population mean: {pop_trimmed_mean}\n",
    "      Population median: {pop_median}\n",
    "\"\"\")\n"
   ]
  },
  {
   "cell_type": "markdown",
   "metadata": {},
   "source": [
    "The mean, trimmed mean, and median provide different perspectives on the \"centre\" of your data, or what an \"average\" value looks like. \n",
    "\n",
    "1. **Mean (Average)**: The mean population is approximately 1,464,264. This is calculated by adding up all the populations and dividing by the number of records. It gives a general idea but can be skewed by very high or low values.\n",
    "2. **Trimmed Mean**: The trimmed mean is about 1,251,285. It's another type of average, but is calculated by removing a certain percentage of the highest and lowest values before calculating the mean (in this case, the top and bottom 10%). This method can provide a more robust center point, less affected by outliers.\n",
    "3. **Median**: The median population is 1,146,200. This is the middle value when all the populations are lined up from smallest to largest. Half the counties have populations above this number, and half below. The median is not influenced by extreme values in the dataset.\n",
    "\n",
    "In summary, since the mean is higher than both the trimmed mean and the median, it suggests there might be some particularly high populations skewing the average upwards. The median gives a sense of the middle-ground population size, and the trimmed mean provides a middle value less influenced by extremes."
   ]
  },
  {
   "cell_type": "code",
   "execution_count": 65,
   "metadata": {},
   "outputs": [
    {
     "name": "stdout",
     "output_type": "stream",
     "text": [
      "\n",
      "      Weighted murder rate mean: 0.9946363185848146\n",
      "      Weighted murder rate median: 0.9671586560699718\n",
      "\n"
     ]
    }
   ],
   "source": [
    "# Weighted mean\n",
    "mr_weighted_mean = np.average(df_murder['Murder Rate'], weights=df_murder['Population figures\\n (mid-2022) rounded to 100 [note 4]'])\n",
    "\n",
    "# Weighted median\n",
    "df_murder_sorted = df_murder.sort_values('Murder Rate')\n",
    "\n",
    "# Calculating the cumulative sum of the weights\n",
    "df_murder_sorted['cumulative_pops'] = df_murder_sorted['Population figures\\n (mid-2022) rounded to 100 [note 4]'].cumsum()\n",
    "\n",
    "# Finding the point where the cumulative population weight reaches half the total weight\n",
    "total_weight = df_murder_sorted['Population figures\\n (mid-2022) rounded to 100 [note 4]'].sum()\n",
    "half_weight = total_weight / 2\n",
    "\n",
    "# The weighted median is the first 'Murder Rate' value where the cumulative weight equals or exceeds half the total weight\n",
    "mr_weighted_median = df_murder_sorted[df_murder_sorted['cumulative_pops'] >= half_weight]['Murder Rate'].iloc[0]\n",
    "\n",
    "print(f\"\"\"\n",
    "      Weighted murder rate mean: {mr_weighted_mean}\n",
    "      Weighted murder rate median: {mr_weighted_median}\n",
    "\"\"\")"
   ]
  },
  {
   "cell_type": "markdown",
   "metadata": {},
   "source": [
    "The weighted mean and median of the murder rate per 100,000 people provide insights into the distribution of murder rates across different areas, taking population into account. \n",
    "\n",
    "1. **Weighted Murder Rate Mean**: The weighted mean is approximately 0.995. This is calculated by giving more importance to murder rates from areas with larger populations. This average gives a more accurate representation of the overall murder rate, as it considers where most people live.\n",
    "2. **Weighted Murder Rate Median**: The weighted median is approximately 0.967. This is the middle value of the murder rates when you arrange them in order, but like the weighted mean, it gives more importance to counties with larger populations. It represents the murder rate that splits the population into two equal groups: half living in areas with higher rates and half in areas with lower.\n",
    "\n",
    "In summary, these weighted figures suggest that, on average, there's a murder rate of around 0.995 per 100,000 people across the counties when accounting for population size. The weighted median being slightly lower than the mean indicates that some of the more populous areas might have murder rates slightly below the weighted mean, pulling the median down."
   ]
  }
 ],
 "metadata": {
  "kernelspec": {
   "display_name": "Python 3",
   "language": "python",
   "name": "python3"
  },
  "language_info": {
   "codemirror_mode": {
    "name": "ipython",
    "version": 3
   },
   "file_extension": ".py",
   "mimetype": "text/x-python",
   "name": "python",
   "nbconvert_exporter": "python",
   "pygments_lexer": "ipython3",
   "version": "3.10.13"
  }
 },
 "nbformat": 4,
 "nbformat_minor": 2
}
